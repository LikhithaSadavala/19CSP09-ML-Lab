{
  "nbformat": 4,
  "nbformat_minor": 0,
  "metadata": {
    "colab": {
      "name": "ML1.ipynb",
      "provenance": []
    },
    "kernelspec": {
      "name": "python3",
      "display_name": "Python 3"
    },
    "language_info": {
      "name": "python"
    }
  },
  "cells": [
    {
      "cell_type": "code",
      "execution_count": 1,
      "metadata": {
        "id": "WuFlQQGGJLuA"
      },
      "outputs": [],
      "source": [
        "import csv"
      ]
    },
    {
      "cell_type": "code",
      "source": [
        "num_attributes = 6\n",
        "a = []\n",
        "print(\"\\n The Given Training Data Set \\n\")\n",
        "with open('ML_lab.csv', 'r') as csvfile:\n",
        "  reader = csv.reader(csvfile)\n",
        "  for row in reader:\n",
        "    a.append(row)\n",
        "    print(row)"
      ],
      "metadata": {
        "colab": {
          "base_uri": "https://localhost:8080/"
        },
        "id": "f2GmoEbzJZrx",
        "outputId": "8ec457cb-2fd7-4de4-f333-f5a4b89faea6"
      },
      "execution_count": 2,
      "outputs": [
        {
          "output_type": "stream",
          "name": "stdout",
          "text": [
            "\n",
            " The Given Training Data Set \n",
            "\n",
            "['sunny', 'warm', 'normal', 'strong', 'warm', 'same', 'yes']\n",
            "['sunny', 'warm', 'high', 'strong', 'warm', 'same', 'yes']\n",
            "['rainy', 'cold', 'high', 'strong', 'warm', 'change', 'no']\n",
            "['sunny', 'warm', 'high', 'strong', 'cool', 'change', 'yes']\n"
          ]
        }
      ]
    },
    {
      "cell_type": "code",
      "source": [
        "print(\"\\n The initial value of hypothesis: \")\n",
        "hypothesis = ['0'] * num_attributes\n",
        "print(hypothesis)"
      ],
      "metadata": {
        "colab": {
          "base_uri": "https://localhost:8080/"
        },
        "id": "HmEAD-LXKP1T",
        "outputId": "00ddf646-88b2-4211-a4e5-f77f73a6db08"
      },
      "execution_count": 3,
      "outputs": [
        {
          "output_type": "stream",
          "name": "stdout",
          "text": [
            "\n",
            " The initial value of hypothesis: \n",
            "['0', '0', '0', '0', '0', '0']\n"
          ]
        }
      ]
    },
    {
      "cell_type": "code",
      "source": [
        "for j in range(0,num_attributes):\n",
        " hypothesis[j] = a[0][j];"
      ],
      "metadata": {
        "id": "-8CykgTcKRkL"
      },
      "execution_count": 4,
      "outputs": []
    },
    {
      "cell_type": "code",
      "source": [
        "print(\"\\n Find S: Finding a Maximally Specific Hypothesis\\n\")\n",
        "for i in range(0,len(a)):\n",
        "  if a[i][num_attributes]=='yes':\n",
        "    for j in range(0,num_attributes):\n",
        "      if a[i][j]!=hypothesis[j]:\n",
        "        hypothesis[j]='?'\n",
        "      else:\n",
        "        hypothesis[j]= a[i][j]\n",
        "  print(\" For Training instance No:{0} the hypothesis is \".format(i),hypothesis)\n",
        "print(\"\\n The Maximally Specific Hypothesis for a given Training Examples :\\n\")  \n",
        "print(hypothesis)"
      ],
      "metadata": {
        "colab": {
          "base_uri": "https://localhost:8080/"
        },
        "id": "hQCRroDsKZPR",
        "outputId": "f0bc1bff-e8f3-4ade-b972-f6708072494e"
      },
      "execution_count": 5,
      "outputs": [
        {
          "output_type": "stream",
          "name": "stdout",
          "text": [
            "\n",
            " Find S: Finding a Maximally Specific Hypothesis\n",
            "\n",
            " For Training instance No:0 the hypothesis is  ['sunny', 'warm', 'normal', 'strong', 'warm', 'same']\n",
            " For Training instance No:1 the hypothesis is  ['sunny', 'warm', '?', 'strong', 'warm', 'same']\n",
            " For Training instance No:2 the hypothesis is  ['sunny', 'warm', '?', 'strong', 'warm', 'same']\n",
            " For Training instance No:3 the hypothesis is  ['sunny', 'warm', '?', 'strong', '?', '?']\n",
            "\n",
            " The Maximally Specific Hypothesis for a given Training Examples :\n",
            "\n",
            "['sunny', 'warm', '?', 'strong', '?', '?']\n"
          ]
        }
      ]
    }
  ]
}