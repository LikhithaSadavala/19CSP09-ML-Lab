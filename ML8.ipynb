{
  "nbformat": 4,
  "nbformat_minor": 0,
  "metadata": {
    "colab": {
      "name": "ML8.ipynb",
      "provenance": []
    },
    "kernelspec": {
      "name": "python3",
      "display_name": "Python 3"
    },
    "language_info": {
      "name": "python"
    }
  },
  "cells": [
    {
      "cell_type": "markdown",
      "source": [
        "KMean Algorithm on iris data-set "
      ],
      "metadata": {
        "id": "-5wSorSw46kh"
      }
    },
    {
      "cell_type": "code",
      "execution_count": 1,
      "metadata": {
        "id": "o7Q3x60U30zS"
      },
      "outputs": [],
      "source": [
        "from sklearn import datasets\n",
        "from sklearn.cluster import KMeans\n",
        "from sklearn.utils import shuffle\n",
        "\n",
        "import numpy as np\n",
        "import pandas as pd"
      ]
    },
    {
      "cell_type": "code",
      "source": [
        "iris=datasets.load_iris()\n",
        "X=iris.data\n",
        "Y=iris.target\n",
        "X,Y = shuffle(X,Y)"
      ],
      "metadata": {
        "id": "l_tgctgA3__2"
      },
      "execution_count": 2,
      "outputs": []
    },
    {
      "cell_type": "code",
      "source": [
        "#Defining model \n",
        "model=KMeans(n_clusters=3,init='k-means++',max_iter=10,n_init=1,verbose=0,random_state=3425)"
      ],
      "metadata": {
        "id": "cD6DqR8S4GCu"
      },
      "execution_count": 3,
      "outputs": []
    },
    {
      "cell_type": "code",
      "source": [
        "model.fit(X)\n",
        "Y_Pred=model.labels_\n",
        "Y_Pred"
      ],
      "metadata": {
        "colab": {
          "base_uri": "https://localhost:8080/"
        },
        "id": "ie48e8af4WC-",
        "outputId": "d45b63b8-5b9f-4028-c27b-e4fad82fa577"
      },
      "execution_count": 4,
      "outputs": [
        {
          "output_type": "execute_result",
          "data": {
            "text/plain": [
              "array([1, 2, 0, 0, 1, 2, 2, 0, 0, 1, 0, 0, 0, 0, 0, 2, 0, 0, 0, 2, 0, 1,\n",
              "       1, 2, 0, 0, 0, 2, 2, 2, 1, 1, 0, 0, 0, 2, 2, 0, 1, 2, 2, 0, 2, 0,\n",
              "       2, 0, 0, 0, 1, 2, 1, 1, 1, 1, 1, 1, 2, 1, 0, 1, 2, 1, 1, 0, 0, 0,\n",
              "       1, 1, 0, 1, 0, 0, 1, 1, 2, 1, 2, 0, 1, 1, 0, 1, 0, 1, 2, 1, 0, 2,\n",
              "       1, 0, 0, 1, 1, 0, 0, 0, 0, 0, 1, 1, 0, 0, 2, 1, 2, 1, 1, 2, 2, 2,\n",
              "       2, 0, 0, 1, 1, 2, 2, 1, 1, 0, 2, 0, 0, 1, 0, 2, 0, 0, 1, 2, 1, 1,\n",
              "       1, 0, 1, 0, 2, 1, 0, 1, 2, 0, 2, 2, 2, 0, 0, 0, 2, 0], dtype=int32)"
            ]
          },
          "metadata": {},
          "execution_count": 4
        }
      ]
    },
    {
      "cell_type": "code",
      "source": [
        "from sklearn.metrics import confusion_matrix\n",
        "cm=confusion_matrix(Y,Y_Pred)\n",
        "print(cm)\n",
        "from sklearn.metrics import accuracy_score\n",
        "print(accuracy_score(Y,Y_Pred))"
      ],
      "metadata": {
        "colab": {
          "base_uri": "https://localhost:8080/"
        },
        "id": "9tf0KTta4Yjp",
        "outputId": "259ed039-58b9-4385-8c94-acf6c9937009"
      },
      "execution_count": 5,
      "outputs": [
        {
          "output_type": "stream",
          "name": "stdout",
          "text": [
            "[[ 0 50  0]\n",
            " [47  0  3]\n",
            " [14  0 36]]\n",
            "0.24\n"
          ]
        }
      ]
    },
    {
      "cell_type": "markdown",
      "source": [
        "EM Algorithm"
      ],
      "metadata": {
        "id": "4HwQ6pls5BnB"
      }
    },
    {
      "cell_type": "code",
      "source": [
        "iris = datasets.load_iris()\n",
        "X = pd.DataFrame(iris.data)\n",
        "Y = pd.DataFrame(iris.target)"
      ],
      "metadata": {
        "id": "G0YKg6Jo4cj3"
      },
      "execution_count": 6,
      "outputs": []
    },
    {
      "cell_type": "code",
      "source": [
        "from sklearn.mixture import GaussianMixture\n",
        "model2=GaussianMixture(n_components=3,random_state=3425)\n",
        "model2.fit(X)"
      ],
      "metadata": {
        "colab": {
          "base_uri": "https://localhost:8080/"
        },
        "id": "vwyOAdtN4g3x",
        "outputId": "328219db-b506-443b-c8f2-6984f5b8a974"
      },
      "execution_count": 7,
      "outputs": [
        {
          "output_type": "execute_result",
          "data": {
            "text/plain": [
              "GaussianMixture(n_components=3, random_state=3425)"
            ]
          },
          "metadata": {},
          "execution_count": 7
        }
      ]
    },
    {
      "cell_type": "code",
      "source": [
        "#Predicting classes for our data\n",
        "uu= model2.predict(X)\n",
        "#Accuracy of EM Model\n",
        "from sklearn.metrics import confusion_matrix\n",
        "cm=confusion_matrix(Y,uu)\n",
        "print(cm)\n",
        "from sklearn.metrics import accuracy_score\n",
        "print(accuracy_score(Y,uu))"
      ],
      "metadata": {
        "colab": {
          "base_uri": "https://localhost:8080/"
        },
        "id": "TMUHAVuK4k1E",
        "outputId": "31662317-7194-4fd1-8778-1949cbf37778"
      },
      "execution_count": 8,
      "outputs": [
        {
          "output_type": "stream",
          "name": "stdout",
          "text": [
            "[[ 0  0 50]\n",
            " [45  5  0]\n",
            " [ 0 50  0]]\n",
            "0.03333333333333333\n"
          ]
        }
      ]
    },
    {
      "cell_type": "markdown",
      "source": [
        "Accuracy we get from KMean algorithm is 0.24 which is less than that of  accuracy we get from EM algorithm that is 0.33 on same data-set (iris data-set)"
      ],
      "metadata": {
        "id": "UAS2t3ha5FsM"
      }
    }
  ]
}