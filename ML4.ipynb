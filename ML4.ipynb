{
  "nbformat": 4,
  "nbformat_minor": 0,
  "metadata": {
    "colab": {
      "name": "ML4.ipynb",
      "provenance": []
    },
    "kernelspec": {
      "name": "python3",
      "display_name": "Python 3"
    },
    "language_info": {
      "name": "python"
    }
  },
  "cells": [
    {
      "cell_type": "code",
      "source": [
        "import numpy as np\n",
        "X = np.array(([2, 9], [1, 5], [3, 6]), dtype=float)\n",
        "y = np.array(([92], [86], [89]), dtype=float)\n",
        "X = X/np.amax(X,axis=0)"
      ],
      "metadata": {
        "id": "rXGM6xRVgXTl"
      },
      "execution_count": null,
      "outputs": []
    },
    {
      "cell_type": "code",
      "source": [
        "#Sigmoid Function\n",
        "def sigmoid (x):\n",
        " return (1/(1 + np.exp(-x)))\n",
        "#Derivative of Sigmoid Function\n",
        "def derivatives_sigmoid(x):\n",
        " return x * (1 - x)"
      ],
      "metadata": {
        "id": "wDSclVQjkL6n"
      },
      "execution_count": null,
      "outputs": []
    },
    {
      "cell_type": "code",
      "source": [
        "epoch=7000 #Setting training iterations\n",
        "lr=0.1 #Setting learning rate\n",
        "inputlayer_neurons = 2 #number of features in data set\n",
        "hiddenlayer_neurons = 3 #number of hidden layers neurons\n",
        "output_neurons = 1"
      ],
      "metadata": {
        "id": "aP0hNNeyseAw"
      },
      "execution_count": 5,
      "outputs": []
    },
    {
      "cell_type": "code",
      "source": [
        "wh=np.random.uniform(size=(inputlayer_neurons,hiddenlayer_neurons))\n",
        "bh=np.random.uniform(size=(1,hiddenlayer_neurons))\n",
        "wout=np.random.uniform(size=(hiddenlayer_neurons,output_neurons))\n",
        "bout=np.random.uniform(size=(1,output_neurons)) "
      ],
      "metadata": {
        "id": "HMFs3ZMgsf5Y"
      },
      "execution_count": 6,
      "outputs": []
    },
    {
      "cell_type": "code",
      "source": [
        "#Forward Propagation\n",
        "for i in range(epoch):\n",
        " hinp1=np.dot(X,wh)\n",
        " hinp=hinp1 + bh\n",
        " hlayer_act = sigmoid(hinp)\n",
        " outinp1=np.dot(hlayer_act,wout)\n",
        " outinp= outinp1+ bout\n",
        " output = sigmoid(outinp)"
      ],
      "metadata": {
        "id": "BR3CSuzAsl4U"
      },
      "execution_count": 7,
      "outputs": []
    },
    {
      "cell_type": "code",
      "source": [
        "#Backpropagation\n",
        "Eo = y-output\n",
        "outgrad = derivatives_sigmoid(output)\n",
        "d_output = Eo* outgrad\n",
        "EH = d_output.dot(wout.T)\n",
        "hiddengrad = derivatives_sigmoid(hlayer_act)\n",
        "#how much hidden layer wts contributed to error\n",
        "d_hiddenlayer = EH * hiddengrad\n",
        "wout += hlayer_act.T.dot(d_output) *lr\n",
        "# dotproduct of nextlayererror and currentlayerop\n",
        "bout += np.sum(d_output, axis=0,keepdims=True) *lr \n",
        "wh += X.T.dot(d_hiddenlayer) *lr\n",
        "#bh += np.sum(d_hiddenlayer, axis=0,keepdims=True) *lr\n",
        "print(\"Input: \\n\" + str(X))\n",
        "print(\"Actual Output: \\n\" + str(y))\n",
        "print(\"Predicted Output: \\n\" ,output)\n"
      ],
      "metadata": {
        "colab": {
          "base_uri": "https://localhost:8080/"
        },
        "id": "ORDOHpI0ssrt",
        "outputId": "a61050f0-b8ed-473e-af7a-21baaa677f62"
      },
      "execution_count": 10,
      "outputs": [
        {
          "output_type": "stream",
          "name": "stdout",
          "text": [
            "Input: \n",
            "[[0.66666667 1.        ]\n",
            " [0.33333333 0.55555556]\n",
            " [1.         0.66666667]]\n",
            "Actual Output: \n",
            "[[92.]\n",
            " [86.]\n",
            " [89.]]\n",
            "Predicted Output: \n",
            " [[0.8204508]\n",
            " [0.8107492]\n",
            " [0.8237349]]\n"
          ]
        }
      ]
    }
  ]
}